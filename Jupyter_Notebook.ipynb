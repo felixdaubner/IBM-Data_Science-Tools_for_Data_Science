{
 "cells": [
  {
   "cell_type": "markdown",
   "metadata": {},
   "source": [
    "<center>\n",
    "    <img src=\"https://s3-api.us-geo.objectstorage.softlayer.net/cf-courses-data/CognitiveClass/Logos/organization_logo/organization_logo.png\" width=\"300\" alt=\"cognitiveclass.ai logo\"  />\n",
    "</center>\n"
   ]
  },
  {
   "cell_type": "markdown",
   "metadata": {},
   "source": [
    "#### Add your code below following the instructions given in the course\n"
   ]
  },
  {
   "cell_type": "markdown",
   "metadata": {},
   "source": [
    "<h1> My Jupyter Notebook on IBM Watson Studio <h1>"
   ]
  },
  {
   "cell_type": "markdown",
   "metadata": {},
   "source": [
    "**Felix Daubner** \n",
    "<br>\n",
    "I want to be a data scientist."
   ]
  },
  {
   "cell_type": "markdown",
   "metadata": {},
   "source": [
    "*I am interested in data science because I like analytical thinking and programming. Extracting knowledge out of data to gain value for your organization is something I want to pursue in my career.*"
   ]
  },
  {
   "cell_type": "markdown",
   "metadata": {},
   "source": [
    "<h3> My code prints out the average of all numbers included in the Python list.<h3>"
   ]
  },
  {
   "cell_type": "code",
   "execution_count": 3,
   "metadata": {},
   "outputs": [
    {
     "name": "stdout",
     "output_type": "stream",
     "text": [
      "The average is 5.0\n"
     ]
    }
   ],
   "source": [
    "mylist = [1, 4, 6, 4, 3, 6, 9, 8, 4]\n",
    "\n",
    "result = 0\n",
    "\n",
    "for num in mylist:\n",
    "    result = result + num\n",
    "    \n",
    "print(\"The average is {}\".format(result / len(mylist)))"
   ]
  },
  {
   "cell_type": "markdown",
   "metadata": {},
   "source": [
    "- this\n",
    "- is\n",
    "- a\n",
    "- bulleted \n",
    "- list\n",
    "\n",
    "1. this\n",
    "2. is\n",
    "3. a\n",
    "4. numbered\n",
    "5. list\n",
    "\n",
    "|heading|heading|\n",
    "|----|----|\n",
    "|text|text|\n",
    "|text|text|"
   ]
  },
  {
   "cell_type": "code",
   "execution_count": null,
   "metadata": {},
   "outputs": [],
   "source": []
  }
 ],
 "metadata": {
  "kernelspec": {
   "display_name": "Python",
   "language": "python",
   "name": "conda-env-python-py"
  },
  "language_info": {
   "codemirror_mode": {
    "name": "ipython",
    "version": 3
   },
   "file_extension": ".py",
   "mimetype": "text/x-python",
   "name": "python",
   "nbconvert_exporter": "python",
   "pygments_lexer": "ipython3",
   "version": "3.7.12"
  }
 },
 "nbformat": 4,
 "nbformat_minor": 4
}
